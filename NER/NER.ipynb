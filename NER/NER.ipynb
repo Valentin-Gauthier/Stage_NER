{
 "cells": [
  {
   "cell_type": "code",
   "execution_count": 91,
   "id": "f06a4143",
   "metadata": {},
   "outputs": [],
   "source": [
    "import casen\n",
    "import spacy_wrapper\n",
    "import importlib\n",
    "import ner"
   ]
  },
  {
   "cell_type": "code",
   "execution_count": 92,
   "id": "b707afb6",
   "metadata": {},
   "outputs": [],
   "source": [
    "EXCEL_DATA = \"D:\\\\travail\\\\Stage\\\\Stage_NER\\\\ressources\\\\20231101_raw.xlsx\"\n",
    "EXCEL_CORRECTION = \"D:\\\\travail\\\\Stage\\\\Stage_NER\\\\ressources\\\\20231101_Digital3D_Tele-Loisirs _telerama_NER_weekday_evaluation_v3(1).xlsx\"\n",
    "GRF = \"D:\\\\travail\\\\Stage\\\\Stage_NER\\\\grf.json\"\n",
    "PIPELINE_RESULT = \"D:\\\\travail\\\\Stage\\\\Stage_NER\\\\Pipeline\\\\Pipeline_Result\"\n",
    "CASEN = \"D:\\\\travail\\\\Stage\\\\Stage_NER\\\\CasEN_fr\\\\CasEN_fr.2.0\\\\CasEN.ipynb\"\n",
    "CASEN_CORPUS_FOLDER = \"D:\\\\travail\\\\Stage\\\\Stage_NER\\\\Result\\\\Corpus\"\n",
    "CASEN_RESULT_FOLDER = \"D:\\\\travail\\\\Stage\\\\Stage_NER\\\\Result\\\\CasEN_Result\\\\Res_CasEN_Analyse_synthese_grf\"\n",
    "LOG_FOLDER = \"D:\\\\travail\\\\Stage\\\\Stage_NER\\\\Pipeline\\\\Logs\"\n",
    "ARCHIVES_FOLDER = \"D:\\\\travail\\\\Stage\\\\Stage_NER\\\\Pipeline\\\\Archives\""
   ]
  },
  {
   "cell_type": "code",
   "execution_count": 94,
   "id": "343218ac",
   "metadata": {},
   "outputs": [
    {
     "name": "stdout",
     "output_type": "stream",
     "text": [
      "[spaCy] spaCy version: 3.8.5\n",
      "[spaCy] spaCy model: core_news_sm\n",
      "run in : 70.68s\n"
     ]
    }
   ],
   "source": [
    "importlib.reload(spacy_wrapper)\n",
    "from spacy_wrapper import SpaCy\n",
    "\n",
    "s = SpaCy(\n",
    "    data = EXCEL_DATA,\n",
    "    spaCy_model = \"fr_core_news_sm\",\n",
    "    timer_option = True,\n",
    "    log_option = True,\n",
    "    log_path = LOG_FOLDER,\n",
    "    verbose = True\n",
    ")\n",
    "s_df = s.run()\n",
    "#s.df.to_excel(\"new_spacy.xlsx\")\n"
   ]
  },
  {
   "cell_type": "code",
   "execution_count": null,
   "id": "c60dfc3d",
   "metadata": {},
   "outputs": [
    {
     "name": "stdout",
     "output_type": "stream",
     "text": [
      "load_data in : 1.03s\n",
      "[load] 9731 file(s) loaded\n",
      "get_entities in : 2.88s\n",
      "CasEN in : 3.20s\n",
      "run in : 3.22s\n"
     ]
    }
   ],
   "source": [
    "importlib.reload(casen)\n",
    "from casen import CasEN\n",
    "\n",
    "\n",
    "c = CasEN(\n",
    "    path= CASEN,\n",
    "    corpus_folder = \"D:\\\\travail\\\\Stage\\\\Stage_NER\\\\Result\\\\Corpus\",\n",
    "    result_folder = \"D:\\\\travail\\\\Stage\\\\Stage_NER\\\\Result\\\\CasEN_Result\\\\Res_CasEN_Analyse_synthese_grf\",\n",
    "    data = EXCEL_DATA,\n",
    "    remove_MISC = True,\n",
    "    archive_folder = None,\n",
    "    single_corpus = False,\n",
    "    run_casEN = False,\n",
    "    logging = True,\n",
    "    log_folder = LOG_FOLDER,\n",
    "    timer = True,\n",
    "    verbose = True\n",
    ")\n",
    "c_df = c.run()\n",
    "# c.df.to_excel(\"new_casen.xlsx\")"
   ]
  },
  {
   "cell_type": "code",
   "execution_count": 103,
   "id": "01160402",
   "metadata": {},
   "outputs": [
    {
     "data": {
      "text/html": [
       "<div>\n",
       "<style scoped>\n",
       "    .dataframe tbody tr th:only-of-type {\n",
       "        vertical-align: middle;\n",
       "    }\n",
       "\n",
       "    .dataframe tbody tr th {\n",
       "        vertical-align: top;\n",
       "    }\n",
       "\n",
       "    .dataframe thead th {\n",
       "        text-align: right;\n",
       "    }\n",
       "</style>\n",
       "<table border=\"1\" class=\"dataframe\">\n",
       "  <thead>\n",
       "    <tr style=\"text-align: right;\">\n",
       "      <th></th>\n",
       "      <th>titles</th>\n",
       "      <th>NER</th>\n",
       "      <th>NER_label</th>\n",
       "      <th>desc</th>\n",
       "      <th>method</th>\n",
       "      <th>main_graph</th>\n",
       "      <th>second_graph</th>\n",
       "      <th>third_graph</th>\n",
       "      <th>file_id</th>\n",
       "    </tr>\n",
       "  </thead>\n",
       "  <tbody>\n",
       "    <tr>\n",
       "      <th>0</th>\n",
       "      <td>Commissaire Magellan (S1-E30)</td>\n",
       "      <td>Tristan Garil</td>\n",
       "      <td>PER</td>\n",
       "      <td>l ' oeuvre du talentueux photographe tristan g...</td>\n",
       "      <td>casEN</td>\n",
       "      <td>grfpersPrenomNom</td>\n",
       "      <td>grftagPrenom</td>\n",
       "      <td>grftagNomFamille</td>\n",
       "      <td>1</td>\n",
       "    </tr>\n",
       "    <tr>\n",
       "      <th>1</th>\n",
       "      <td>Commissaire Magellan (S1-E30)</td>\n",
       "      <td>galerie Delandin</td>\n",
       "      <td>ORG</td>\n",
       "      <td>tristan garil s ' apprête à être exposée dans ...</td>\n",
       "      <td>casEN</td>\n",
       "      <td>grforgSeule</td>\n",
       "      <td>grforgProximite</td>\n",
       "      <td>grfpersGenerique</td>\n",
       "      <td>1</td>\n",
       "    </tr>\n",
       "    <tr>\n",
       "      <th>2</th>\n",
       "      <td>Commissaire Magellan (S1-E30)</td>\n",
       "      <td>Estelle Delandin</td>\n",
       "      <td>PER</td>\n",
       "      <td>delandin . mais la directrice et fondatrice du...</td>\n",
       "      <td>casEN</td>\n",
       "      <td>grfpersPrenomNom</td>\n",
       "      <td>grftagPrenom</td>\n",
       "      <td>grftagNomFamille</td>\n",
       "      <td>1</td>\n",
       "    </tr>\n",
       "    <tr>\n",
       "      <th>3</th>\n",
       "      <td>Commissaire Magellan (S1-E30)</td>\n",
       "      <td>Magellan</td>\n",
       "      <td>PER</td>\n",
       "      <td>lieu , estelle delandin , est assassinée . le ...</td>\n",
       "      <td>casEN</td>\n",
       "      <td>grfpersContextePersonne</td>\n",
       "      <td>grftagNomFamille</td>\n",
       "      <td></td>\n",
       "      <td>1</td>\n",
       "    </tr>\n",
       "    <tr>\n",
       "      <th>4</th>\n",
       "      <td>Commissaire Magellan (S1-E30)</td>\n",
       "      <td>Selma Berrayah</td>\n",
       "      <td>PER</td>\n",
       "      <td>, est assassinée . le commissaire magellan et ...</td>\n",
       "      <td>casEN</td>\n",
       "      <td>grfpersPrenomNom</td>\n",
       "      <td>grftagPrenom</td>\n",
       "      <td>grftagNomFamille</td>\n",
       "      <td>1</td>\n",
       "    </tr>\n",
       "  </tbody>\n",
       "</table>\n",
       "</div>"
      ],
      "text/plain": [
       "                          titles               NER NER_label  \\\n",
       "0  Commissaire Magellan (S1-E30)     Tristan Garil       PER   \n",
       "1  Commissaire Magellan (S1-E30)  galerie Delandin       ORG   \n",
       "2  Commissaire Magellan (S1-E30)  Estelle Delandin       PER   \n",
       "3  Commissaire Magellan (S1-E30)          Magellan       PER   \n",
       "4  Commissaire Magellan (S1-E30)    Selma Berrayah       PER   \n",
       "\n",
       "                                                desc method  \\\n",
       "0  l ' oeuvre du talentueux photographe tristan g...  casEN   \n",
       "1  tristan garil s ' apprête à être exposée dans ...  casEN   \n",
       "2  delandin . mais la directrice et fondatrice du...  casEN   \n",
       "3  lieu , estelle delandin , est assassinée . le ...  casEN   \n",
       "4  , est assassinée . le commissaire magellan et ...  casEN   \n",
       "\n",
       "                main_graph      second_graph       third_graph  file_id  \n",
       "0         grfpersPrenomNom      grftagPrenom  grftagNomFamille        1  \n",
       "1              grforgSeule   grforgProximite  grfpersGenerique        1  \n",
       "2         grfpersPrenomNom      grftagPrenom  grftagNomFamille        1  \n",
       "3  grfpersContextePersonne  grftagNomFamille                          1  \n",
       "4         grfpersPrenomNom      grftagPrenom  grftagNomFamille        1  "
      ]
     },
     "execution_count": 103,
     "metadata": {},
     "output_type": "execute_result"
    }
   ],
   "source": [
    "c_df.head()"
   ]
  },
  {
   "cell_type": "code",
   "execution_count": 100,
   "id": "3d9608e1",
   "metadata": {},
   "outputs": [
    {
     "name": "stdout",
     "output_type": "stream",
     "text": [
      "[merge] Found 9731 valid rows\n"
     ]
    },
    {
     "ename": "KeyError",
     "evalue": "\"None of [Index(['NER', 'NER_label', 'file_id'], dtype='object')] are in the [columns]\"",
     "output_type": "error",
     "traceback": [
      "\u001b[31m---------------------------------------------------------------------------\u001b[39m",
      "\u001b[31mKeyError\u001b[39m                                  Traceback (most recent call last)",
      "\u001b[36mCell\u001b[39m\u001b[36m \u001b[39m\u001b[32mIn[100]\u001b[39m\u001b[32m, line 17\u001b[39m\n\u001b[32m      2\u001b[39m \u001b[38;5;28;01mfrom\u001b[39;00m\u001b[38;5;250m \u001b[39m\u001b[34;01mner\u001b[39;00m\u001b[38;5;250m \u001b[39m\u001b[38;5;28;01mimport\u001b[39;00m NER\n\u001b[32m      4\u001b[39m N = NER(\n\u001b[32m      5\u001b[39m     spaCy = s_df,\n\u001b[32m      6\u001b[39m     casEN = c_df,\n\u001b[32m   (...)\u001b[39m\u001b[32m     15\u001b[39m     verbose = \u001b[38;5;28;01mTrue\u001b[39;00m\n\u001b[32m     16\u001b[39m )\n\u001b[32m---> \u001b[39m\u001b[32m17\u001b[39m \u001b[43mN\u001b[49m\u001b[43m.\u001b[49m\u001b[43mrun\u001b[49m\u001b[43m(\u001b[49m\u001b[43m)\u001b[49m\n",
      "\u001b[36mFile \u001b[39m\u001b[32md:\\travail\\Stage\\Stage_NER\\NER\\ner.py:240\u001b[39m, in \u001b[36mNER.run\u001b[39m\u001b[34m(self)\u001b[39m\n\u001b[32m    237\u001b[39m     \u001b[38;5;28mself\u001b[39m.casEN_df = \u001b[38;5;28mself\u001b[39m.casEN\n\u001b[32m    239\u001b[39m \u001b[38;5;66;03m# --- MERGE --- #  \u001b[39;00m\n\u001b[32m--> \u001b[39m\u001b[32m240\u001b[39m \u001b[38;5;28;43mself\u001b[39;49m\u001b[43m.\u001b[49m\u001b[43mmerge\u001b[49m\u001b[43m(\u001b[49m\u001b[43m)\u001b[49m\n\u001b[32m    242\u001b[39m \u001b[38;5;66;03m# -------- OPTIMISATIONS -------- #\u001b[39;00m\n\u001b[32m    243\u001b[39m \u001b[38;5;28;01mif\u001b[39;00m \u001b[38;5;28mself\u001b[39m.casEN_graph_validation \u001b[38;5;129;01mis\u001b[39;00m \u001b[38;5;129;01mnot\u001b[39;00m \u001b[38;5;28;01mNone\u001b[39;00m:\n",
      "\u001b[36mFile \u001b[39m\u001b[32md:\\travail\\Stage\\Stage_NER\\NER\\ner.py:51\u001b[39m, in \u001b[36mNER.chrono.<locals>.wrapper\u001b[39m\u001b[34m(self, *args, **kwargs)\u001b[39m\n\u001b[32m     49\u001b[39m \u001b[38;5;28;01mif\u001b[39;00m \u001b[38;5;28mself\u001b[39m.timer \u001b[38;5;129;01mor\u001b[39;00m \u001b[38;5;28mself\u001b[39m.logging:\n\u001b[32m     50\u001b[39m     start = time.time()\n\u001b[32m---> \u001b[39m\u001b[32m51\u001b[39m result = \u001b[43mfunc\u001b[49m\u001b[43m(\u001b[49m\u001b[38;5;28;43mself\u001b[39;49m\u001b[43m,\u001b[49m\u001b[43m \u001b[49m\u001b[43m*\u001b[49m\u001b[43margs\u001b[49m\u001b[43m,\u001b[49m\u001b[43m \u001b[49m\u001b[43m*\u001b[49m\u001b[43m*\u001b[49m\u001b[43mkwargs\u001b[49m\u001b[43m)\u001b[49m\n\u001b[32m     52\u001b[39m \u001b[38;5;28;01mif\u001b[39;00m \u001b[38;5;28mself\u001b[39m.timer \u001b[38;5;129;01mor\u001b[39;00m \u001b[38;5;28mself\u001b[39m.logging:\n\u001b[32m     53\u001b[39m     duration = time.time() - start\n",
      "\u001b[36mFile \u001b[39m\u001b[32md:\\travail\\Stage\\Stage_NER\\NER\\ner.py:90\u001b[39m, in \u001b[36mNER.merge\u001b[39m\u001b[34m(self)\u001b[39m\n\u001b[32m     87\u001b[39m     \u001b[38;5;28mprint\u001b[39m(\u001b[33mf\u001b[39m\u001b[33m\"\u001b[39m\u001b[33m[merge] Found \u001b[39m\u001b[38;5;132;01m{\u001b[39;00m\u001b[38;5;28mlen\u001b[39m(df_not_empty)\u001b[38;5;132;01m}\u001b[39;00m\u001b[33m valid rows\u001b[39m\u001b[33m\"\u001b[39m)\n\u001b[32m     89\u001b[39m \u001b[38;5;28mself\u001b[39m.spaCy_df[\u001b[33m\"\u001b[39m\u001b[33mkey\u001b[39m\u001b[33m\"\u001b[39m] = \u001b[38;5;28mself\u001b[39m.spaCy_df[[\u001b[33m\"\u001b[39m\u001b[33mNER\u001b[39m\u001b[33m\"\u001b[39m, \u001b[33m\"\u001b[39m\u001b[33mNER_label\u001b[39m\u001b[33m\"\u001b[39m, \u001b[33m\"\u001b[39m\u001b[33mfile_id\u001b[39m\u001b[33m\"\u001b[39m]].apply(\u001b[38;5;28;01mlambda\u001b[39;00m x: \u001b[38;5;28mtuple\u001b[39m(x), axis=\u001b[32m1\u001b[39m)\n\u001b[32m---> \u001b[39m\u001b[32m90\u001b[39m \u001b[38;5;28mself\u001b[39m.casEN_df[\u001b[33m\"\u001b[39m\u001b[33mkey\u001b[39m\u001b[33m\"\u001b[39m] = \u001b[38;5;28;43mself\u001b[39;49m\u001b[43m.\u001b[49m\u001b[43mcasEN_df\u001b[49m\u001b[43m[\u001b[49m\u001b[43m[\u001b[49m\u001b[33;43m\"\u001b[39;49m\u001b[33;43mNER\u001b[39;49m\u001b[33;43m\"\u001b[39;49m\u001b[43m,\u001b[49m\u001b[43m \u001b[49m\u001b[33;43m\"\u001b[39;49m\u001b[33;43mNER_label\u001b[39;49m\u001b[33;43m\"\u001b[39;49m\u001b[43m,\u001b[49m\u001b[43m \u001b[49m\u001b[33;43m\"\u001b[39;49m\u001b[33;43mfile_id\u001b[39;49m\u001b[33;43m\"\u001b[39;49m\u001b[43m]\u001b[49m\u001b[43m]\u001b[49m.apply(\u001b[38;5;28;01mlambda\u001b[39;00m x: \u001b[38;5;28mtuple\u001b[39m(x), axis=\u001b[32m1\u001b[39m)\n\u001b[32m     92\u001b[39m merge_df = pd.merge(\u001b[38;5;28mself\u001b[39m.spaCy_df, \u001b[38;5;28mself\u001b[39m.casEN_df, on=\u001b[33m\"\u001b[39m\u001b[33mkey\u001b[39m\u001b[33m\"\u001b[39m, how=\u001b[33m\"\u001b[39m\u001b[33mouter\u001b[39m\u001b[33m\"\u001b[39m, suffixes=[\u001b[33m\"\u001b[39m\u001b[33m_spaCy\u001b[39m\u001b[33m\"\u001b[39m, \u001b[33m\"\u001b[39m\u001b[33m_casEN\u001b[39m\u001b[33m\"\u001b[39m], indicator=\u001b[38;5;28;01mTrue\u001b[39;00m)\n\u001b[32m     94\u001b[39m \u001b[38;5;66;03m# Fix shared columns\u001b[39;00m\n",
      "\u001b[36mFile \u001b[39m\u001b[32m~\\AppData\\Local\\Packages\\PythonSoftwareFoundation.Python.3.12_qbz5n2kfra8p0\\LocalCache\\local-packages\\Python312\\site-packages\\pandas\\core\\frame.py:4108\u001b[39m, in \u001b[36mDataFrame.__getitem__\u001b[39m\u001b[34m(self, key)\u001b[39m\n\u001b[32m   4106\u001b[39m     \u001b[38;5;28;01mif\u001b[39;00m is_iterator(key):\n\u001b[32m   4107\u001b[39m         key = \u001b[38;5;28mlist\u001b[39m(key)\n\u001b[32m-> \u001b[39m\u001b[32m4108\u001b[39m     indexer = \u001b[38;5;28;43mself\u001b[39;49m\u001b[43m.\u001b[49m\u001b[43mcolumns\u001b[49m\u001b[43m.\u001b[49m\u001b[43m_get_indexer_strict\u001b[49m\u001b[43m(\u001b[49m\u001b[43mkey\u001b[49m\u001b[43m,\u001b[49m\u001b[43m \u001b[49m\u001b[33;43m\"\u001b[39;49m\u001b[33;43mcolumns\u001b[39;49m\u001b[33;43m\"\u001b[39;49m\u001b[43m)\u001b[49m[\u001b[32m1\u001b[39m]\n\u001b[32m   4110\u001b[39m \u001b[38;5;66;03m# take() does not accept boolean indexers\u001b[39;00m\n\u001b[32m   4111\u001b[39m \u001b[38;5;28;01mif\u001b[39;00m \u001b[38;5;28mgetattr\u001b[39m(indexer, \u001b[33m\"\u001b[39m\u001b[33mdtype\u001b[39m\u001b[33m\"\u001b[39m, \u001b[38;5;28;01mNone\u001b[39;00m) == \u001b[38;5;28mbool\u001b[39m:\n",
      "\u001b[36mFile \u001b[39m\u001b[32m~\\AppData\\Local\\Packages\\PythonSoftwareFoundation.Python.3.12_qbz5n2kfra8p0\\LocalCache\\local-packages\\Python312\\site-packages\\pandas\\core\\indexes\\base.py:6200\u001b[39m, in \u001b[36mIndex._get_indexer_strict\u001b[39m\u001b[34m(self, key, axis_name)\u001b[39m\n\u001b[32m   6197\u001b[39m \u001b[38;5;28;01melse\u001b[39;00m:\n\u001b[32m   6198\u001b[39m     keyarr, indexer, new_indexer = \u001b[38;5;28mself\u001b[39m._reindex_non_unique(keyarr)\n\u001b[32m-> \u001b[39m\u001b[32m6200\u001b[39m \u001b[38;5;28;43mself\u001b[39;49m\u001b[43m.\u001b[49m\u001b[43m_raise_if_missing\u001b[49m\u001b[43m(\u001b[49m\u001b[43mkeyarr\u001b[49m\u001b[43m,\u001b[49m\u001b[43m \u001b[49m\u001b[43mindexer\u001b[49m\u001b[43m,\u001b[49m\u001b[43m \u001b[49m\u001b[43maxis_name\u001b[49m\u001b[43m)\u001b[49m\n\u001b[32m   6202\u001b[39m keyarr = \u001b[38;5;28mself\u001b[39m.take(indexer)\n\u001b[32m   6203\u001b[39m \u001b[38;5;28;01mif\u001b[39;00m \u001b[38;5;28misinstance\u001b[39m(key, Index):\n\u001b[32m   6204\u001b[39m     \u001b[38;5;66;03m# GH 42790 - Preserve name from an Index\u001b[39;00m\n",
      "\u001b[36mFile \u001b[39m\u001b[32m~\\AppData\\Local\\Packages\\PythonSoftwareFoundation.Python.3.12_qbz5n2kfra8p0\\LocalCache\\local-packages\\Python312\\site-packages\\pandas\\core\\indexes\\base.py:6249\u001b[39m, in \u001b[36mIndex._raise_if_missing\u001b[39m\u001b[34m(self, key, indexer, axis_name)\u001b[39m\n\u001b[32m   6247\u001b[39m \u001b[38;5;28;01mif\u001b[39;00m nmissing:\n\u001b[32m   6248\u001b[39m     \u001b[38;5;28;01mif\u001b[39;00m nmissing == \u001b[38;5;28mlen\u001b[39m(indexer):\n\u001b[32m-> \u001b[39m\u001b[32m6249\u001b[39m         \u001b[38;5;28;01mraise\u001b[39;00m \u001b[38;5;167;01mKeyError\u001b[39;00m(\u001b[33mf\u001b[39m\u001b[33m\"\u001b[39m\u001b[33mNone of [\u001b[39m\u001b[38;5;132;01m{\u001b[39;00mkey\u001b[38;5;132;01m}\u001b[39;00m\u001b[33m] are in the [\u001b[39m\u001b[38;5;132;01m{\u001b[39;00maxis_name\u001b[38;5;132;01m}\u001b[39;00m\u001b[33m]\u001b[39m\u001b[33m\"\u001b[39m)\n\u001b[32m   6251\u001b[39m     not_found = \u001b[38;5;28mlist\u001b[39m(ensure_index(key)[missing_mask.nonzero()[\u001b[32m0\u001b[39m]].unique())\n\u001b[32m   6252\u001b[39m     \u001b[38;5;28;01mraise\u001b[39;00m \u001b[38;5;167;01mKeyError\u001b[39;00m(\u001b[33mf\u001b[39m\u001b[33m\"\u001b[39m\u001b[38;5;132;01m{\u001b[39;00mnot_found\u001b[38;5;132;01m}\u001b[39;00m\u001b[33m not in index\u001b[39m\u001b[33m\"\u001b[39m)\n",
      "\u001b[31mKeyError\u001b[39m: \"None of [Index(['NER', 'NER_label', 'file_id'], dtype='object')] are in the [columns]\""
     ]
    }
   ],
   "source": [
    "importlib.reload(ner)\n",
    "from ner import NER\n",
    "\n",
    "N = NER(\n",
    "    spaCy = s_df,\n",
    "    casEN = c_df,\n",
    "    data = EXCEL_DATA,\n",
    "    casEN_priority_merge = True,\n",
    "    casEN_graph_validation = GRF,\n",
    "    remove_duplicate_rows = False,\n",
    "    correction = EXCEL_CORRECTION,\n",
    "    logging = True,\n",
    "    log_folder = LOG_FOLDER,\n",
    "    timer = True,\n",
    "    verbose = True\n",
    ")\n",
    "N.run()"
   ]
  },
  {
   "cell_type": "code",
   "execution_count": null,
   "id": "35fbe2e1",
   "metadata": {},
   "outputs": [],
   "source": [
    "N.df.to_excel(\"NER_multiple_corpus_result.xlsx\", index=False)"
   ]
  }
 ],
 "metadata": {
  "kernelspec": {
   "display_name": "Python 3",
   "language": "python",
   "name": "python3"
  },
  "language_info": {
   "codemirror_mode": {
    "name": "ipython",
    "version": 3
   },
   "file_extension": ".py",
   "mimetype": "text/x-python",
   "name": "python",
   "nbconvert_exporter": "python",
   "pygments_lexer": "ipython3",
   "version": "3.12.10"
  }
 },
 "nbformat": 4,
 "nbformat_minor": 5
}
