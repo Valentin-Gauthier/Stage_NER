{
 "cells": [
  {
   "cell_type": "code",
   "execution_count": 12,
   "id": "74aaf844",
   "metadata": {},
   "outputs": [],
   "source": [
    "# -------- IMPORTS -------\n",
    "import pipeline\n",
    "import spacy_wrapper\n",
    "import casen\n",
    "import importlib\n",
    "import utils"
   ]
  },
  {
   "cell_type": "code",
   "execution_count": null,
   "id": "c1fe4354",
   "metadata": {},
   "outputs": [
    {
     "name": "stderr",
     "output_type": "stream",
     "text": [
      "<>:6: SyntaxWarning: invalid escape sequence '\\L'\n",
      "<>:6: SyntaxWarning: invalid escape sequence '\\L'\n",
      "C:\\Users\\valen\\AppData\\Local\\Temp\\ipykernel_14276\\281868726.py:6: SyntaxWarning: invalid escape sequence '\\L'\n",
      "  LOG_FOLDER = \"D:\\\\travail\\\\Stage\\\\Stage_NER\\\\Pipeline\\Logs\"\n"
     ]
    }
   ],
   "source": [
    "EXCEL_DATA = \"D:\\\\travail\\\\Stage\\\\Stage_NER\\\\ressources\\\\20231101_raw.xlsx\"\n",
    "PIPELINE_RESULT = \"D:\\\\travail\\\\Stage\\\\Stage_NER\\\\Pipeline\"\n",
    "CASEN = \"D:\\\\travail\\\\Stage\\\\Stage_NER\\\\CasEN_fr\\\\CasEN_fr.2.0\\\\CasEN.ipynb\"\n",
    "CASEN_CORPUS_FOLDER = \"D:\\\\travail\\\\Stage\\\\Stage_NER\\\\Result\\\\Corpus\"\n",
    "CASEN_RESULT_FOLDER = \"D:\\\\travail\\\\Stage\\\\Stage_NER\\\\Result\\\\CasEN_Result\\\\Res_CasEN_Analyse_synthese_grf\"\n",
    "LOG_FOLDER = \"D:\\\\travail\\\\Stage\\\\Stage_NER\\\\Pipeline\\\\Logs\"\n",
    "#ARCHIVES_FOLDER = \"D:\\\\travail\\\\Stage\\\\Stage_NER\\\\Pipeline\\\\Archives\""
   ]
  },
  {
   "cell_type": "code",
   "execution_count": 15,
   "id": "463452bc",
   "metadata": {},
   "outputs": [],
   "source": [
    "importlib.reload(spacy_wrapper)\n",
    "from spacy_wrapper import SpaCy\n",
    "# -------- SpaCy Config -------- #\n",
    "spaCy = SpaCy(\n",
    "    data=None,    # -> give in the Pipeline (load it only one time for spaCy and CasEN)\n",
    "    timer_option=True, \n",
    "    log_option=True, \n",
    "    log_path= LOG_FOLDER,\n",
    "    verbose=True\n",
    "    )"
   ]
  },
  {
   "cell_type": "code",
   "execution_count": 16,
   "id": "f9cd1ba1",
   "metadata": {},
   "outputs": [],
   "source": [
    "importlib.reload(casen)\n",
    "from casen import CasEN\n",
    "# -------- CasEN Config -------- #\n",
    "casEN = CasEN(\n",
    "    path = CASEN,\n",
    "    data = None, # -> give in the Pipeline (load it only one time for spaCy and CasEN)\n",
    "    trustable_grf = False,\n",
    "    remove_casEN_MISC = True,\n",
    "    archiving = True,\n",
    "    unique_corpus_file = True,\n",
    "    corpus_folder = CASEN_CORPUS_FOLDER,\n",
    "    casEN_result = CASEN_RESULT_FOLDER,\n",
    "    make_excel = False,\n",
    "    timer_option = True,\n",
    "    log_option = True,\n",
    "    log_path = LOG_FOLDER,\n",
    "    verbose = True\n",
    ")"
   ]
  },
  {
   "cell_type": "code",
   "execution_count": 17,
   "id": "c463b49f",
   "metadata": {},
   "outputs": [],
   "source": [
    "importlib.reload(pipeline)\n",
    "from pipeline import Pipeline\n",
    "# -------- Pipeline Config  1-------- #\n",
    "P = Pipeline(\n",
    "    spaCy = spaCy,\n",
    "    casEN = casEN,\n",
    "    data = EXCEL_DATA,\n",
    "    pipeline_result = PIPELINE_RESULT,\n",
    "    remove_duplicate_rows = False,\n",
    "    timer_option = True,\n",
    "    log_option = True,\n",
    "    log_path = LOG_FOLDER,\n",
    "    verbose = True\n",
    ")"
   ]
  },
  {
   "cell_type": "code",
   "execution_count": 18,
   "id": "a1d7df67",
   "metadata": {},
   "outputs": [
    {
     "name": "stdout",
     "output_type": "stream",
     "text": [
      "load data\n",
      "[spaCy] spaCy version: 3.8.5\n",
      "[spaCy] spaCy model: core_news_sm\n",
      "SpaCy run is finish\n",
      "run in : 69.74s\n",
      "[prepare folder] folder : D:\\travail\\Stage\\Stage_NER\\Result\\CasEN_Result\\Res_CasEN_Analyse_synthese_grf\n",
      "[prepare folder] Folder is empty\n",
      "[prepare folder] folder : D:\\travail\\Stage\\Stage_NER\\Result\\Corpus\n",
      "[prepare folder] Folder is empty\n"
     ]
    },
    {
     "name": "stderr",
     "output_type": "stream",
     "text": [
      "d:\\travail\\Stage\\Stage_NER\\Pipeline\\pipeline.py:155: SyntaxWarning: invalid escape sequence '\\L'\n",
      "  log_path = \"D:\\\\travail\\\\Stage\\\\Stage_NER\\\\Pipeline\\Logs\",\n"
     ]
    },
    {
     "ename": "TypeError",
     "evalue": "'NoneType' object is not subscriptable",
     "output_type": "error",
     "traceback": [
      "\u001b[31m---------------------------------------------------------------------------\u001b[39m",
      "\u001b[31mTypeError\u001b[39m                                 Traceback (most recent call last)",
      "\u001b[36mCell\u001b[39m\u001b[36m \u001b[39m\u001b[32mIn[18]\u001b[39m\u001b[32m, line 1\u001b[39m\n\u001b[32m----> \u001b[39m\u001b[32m1\u001b[39m \u001b[43mP\u001b[49m\u001b[43m.\u001b[49m\u001b[43mrun\u001b[49m\u001b[43m(\u001b[49m\u001b[43m)\u001b[49m\n",
      "\u001b[36mFile \u001b[39m\u001b[32md:\\travail\\Stage\\Stage_NER\\Pipeline\\pipeline.py:42\u001b[39m, in \u001b[36mPipeline.chrono.<locals>.wrapper\u001b[39m\u001b[34m(self, *args, **kwargs)\u001b[39m\n\u001b[32m     40\u001b[39m \u001b[38;5;28;01mif\u001b[39;00m \u001b[38;5;28mself\u001b[39m.timer_option \u001b[38;5;129;01mor\u001b[39;00m \u001b[38;5;28mself\u001b[39m.log_option:\n\u001b[32m     41\u001b[39m     start = time.time()\n\u001b[32m---> \u001b[39m\u001b[32m42\u001b[39m result = \u001b[43mfunc\u001b[49m\u001b[43m(\u001b[49m\u001b[38;5;28;43mself\u001b[39;49m\u001b[43m,\u001b[49m\u001b[43m \u001b[49m\u001b[43m*\u001b[49m\u001b[43margs\u001b[49m\u001b[43m,\u001b[49m\u001b[43m \u001b[49m\u001b[43m*\u001b[49m\u001b[43m*\u001b[49m\u001b[43mkwargs\u001b[49m\u001b[43m)\u001b[49m\n\u001b[32m     43\u001b[39m \u001b[38;5;28;01mif\u001b[39;00m \u001b[38;5;28mself\u001b[39m.timer_option \u001b[38;5;129;01mor\u001b[39;00m \u001b[38;5;28mself\u001b[39m.log_option:\n\u001b[32m     44\u001b[39m     duration = time.time() - start\n",
      "\u001b[36mFile \u001b[39m\u001b[32md:\\travail\\Stage\\Stage_NER\\Pipeline\\pipeline.py:162\u001b[39m, in \u001b[36mPipeline.run\u001b[39m\u001b[34m(self, spaCy, casEN)\u001b[39m\n\u001b[32m    160\u001b[39m \u001b[38;5;66;03m# ------- RUN -------- #\u001b[39;00m\n\u001b[32m    161\u001b[39m \u001b[38;5;28mself\u001b[39m.spaCy_df = spaCy.run()\n\u001b[32m--> \u001b[39m\u001b[32m162\u001b[39m \u001b[38;5;28mself\u001b[39m.casEN_df = \u001b[43mcasEN\u001b[49m\u001b[43m.\u001b[49m\u001b[43mrun\u001b[49m\u001b[43m(\u001b[49m\u001b[43m)\u001b[49m\n\u001b[32m    164\u001b[39m \u001b[38;5;66;03m# ----- MERGE --- #\u001b[39;00m\n\u001b[32m    165\u001b[39m \u001b[38;5;28mself\u001b[39m.merge_spacy_casEN()\n",
      "\u001b[36mFile \u001b[39m\u001b[32md:\\travail\\Stage\\Stage_NER\\Pipeline\\casen.py:52\u001b[39m, in \u001b[36mCasEN.chrono.<locals>.wrapper\u001b[39m\u001b[34m(self, *args, **kwargs)\u001b[39m\n\u001b[32m     50\u001b[39m \u001b[38;5;28;01mif\u001b[39;00m \u001b[38;5;28mself\u001b[39m.timer_option \u001b[38;5;129;01mor\u001b[39;00m \u001b[38;5;28mself\u001b[39m.log_option:\n\u001b[32m     51\u001b[39m     start = time.time()\n\u001b[32m---> \u001b[39m\u001b[32m52\u001b[39m result = \u001b[43mfunc\u001b[49m\u001b[43m(\u001b[49m\u001b[38;5;28;43mself\u001b[39;49m\u001b[43m,\u001b[49m\u001b[43m \u001b[49m\u001b[43m*\u001b[49m\u001b[43margs\u001b[49m\u001b[43m,\u001b[49m\u001b[43m \u001b[49m\u001b[43m*\u001b[49m\u001b[43m*\u001b[49m\u001b[43mkwargs\u001b[49m\u001b[43m)\u001b[49m\n\u001b[32m     53\u001b[39m \u001b[38;5;28;01mif\u001b[39;00m \u001b[38;5;28mself\u001b[39m.timer_option \u001b[38;5;129;01mor\u001b[39;00m \u001b[38;5;28mself\u001b[39m.log_option:\n\u001b[32m     54\u001b[39m     duration = time.time() - start\n",
      "\u001b[36mFile \u001b[39m\u001b[32md:\\travail\\Stage\\Stage_NER\\Pipeline\\casen.py:202\u001b[39m, in \u001b[36mCasEN.run\u001b[39m\u001b[34m(self, verbose)\u001b[39m\n\u001b[32m    200\u001b[39m utils.prepare_folder(folder_path=\u001b[38;5;28mself\u001b[39m.corpus_folder, name=\u001b[33m\"\u001b[39m\u001b[33mCasEN_Corpus\u001b[39m\u001b[33m\"\u001b[39m, archiving=\u001b[38;5;28mself\u001b[39m.archiving, verbose=\u001b[38;5;28mself\u001b[39m.verbose)\n\u001b[32m    201\u001b[39m \u001b[38;5;66;03m# make corpus\u001b[39;00m\n\u001b[32m--> \u001b[39m\u001b[32m202\u001b[39m \u001b[43mutils\u001b[49m\u001b[43m.\u001b[49m\u001b[43mgenerate_casEN_file\u001b[49m\u001b[43m(\u001b[49m\u001b[43mdf\u001b[49m\u001b[43m=\u001b[49m\u001b[38;5;28;43mself\u001b[39;49m\u001b[43m.\u001b[49m\u001b[43mdata\u001b[49m\u001b[43m,\u001b[49m\u001b[43m \u001b[49m\u001b[43mcorpus_path\u001b[49m\u001b[43m=\u001b[49m\u001b[38;5;28;43mself\u001b[39;49m\u001b[43m.\u001b[49m\u001b[43mcorpus_folder\u001b[49m\u001b[43m,\u001b[49m\u001b[43m \u001b[49m\u001b[43munique_file\u001b[49m\u001b[43m=\u001b[49m\u001b[38;5;28;43mself\u001b[39;49m\u001b[43m.\u001b[49m\u001b[43munique_corpus_file\u001b[49m\u001b[43m,\u001b[49m\u001b[43m \u001b[49m\u001b[43mverbose\u001b[49m\u001b[43m=\u001b[49m\u001b[38;5;28;43mself\u001b[39;49m\u001b[43m.\u001b[49m\u001b[43mverbose\u001b[49m\u001b[43m)\u001b[49m\n\u001b[32m    203\u001b[39m \u001b[38;5;66;03m# run casEN\u001b[39;00m\n\u001b[32m    204\u001b[39m \u001b[38;5;28mself\u001b[39m.execute_casEN()\n",
      "\u001b[36mFile \u001b[39m\u001b[32md:\\travail\\Stage\\Stage_NER\\Pipeline\\utils.py:101\u001b[39m, in \u001b[36mgenerate_casEN_file\u001b[39m\u001b[34m(df, corpus_path, unique_file, timer_option, log_option, verbose)\u001b[39m\n\u001b[32m     97\u001b[39m \u001b[38;5;28;01mdef\u001b[39;00m\u001b[38;5;250m \u001b[39m\u001b[34mgenerate_casEN_file\u001b[39m(df:pd.DataFrame=\u001b[38;5;28;01mNone\u001b[39;00m, corpus_path:\u001b[38;5;28mstr\u001b[39m=\u001b[33m\"\u001b[39m\u001b[33m\"\u001b[39m, unique_file: \u001b[38;5;28mbool\u001b[39m = \u001b[38;5;28;01mFalse\u001b[39;00m, timer_option:\u001b[38;5;28mbool\u001b[39m=\u001b[38;5;28;01mFalse\u001b[39;00m, log_option:\u001b[38;5;28mbool\u001b[39m=\u001b[38;5;28;01mFalse\u001b[39;00m, verbose: \u001b[38;5;28mbool\u001b[39m = \u001b[38;5;28;01mFalse\u001b[39;00m):\n\u001b[32m     99\u001b[39m         \u001b[38;5;28;01mif\u001b[39;00m unique_file:\n\u001b[32m    100\u001b[39m             \u001b[38;5;66;03m# Case 1: Generate a single corpus.txt file\u001b[39;00m\n\u001b[32m--> \u001b[39m\u001b[32m101\u001b[39m             missing_desc = (\u001b[43mdf\u001b[49m\u001b[43m[\u001b[49m\u001b[33;43m\"\u001b[39;49m\u001b[33;43mdesc\u001b[39;49m\u001b[33;43m\"\u001b[39;49m\u001b[43m]\u001b[49m == \u001b[33m\"\u001b[39m\u001b[33m\"\u001b[39m).sum()\n\u001b[32m    102\u001b[39m             corpus_path = Path(corpus_path) / \u001b[33m\"\u001b[39m\u001b[33mcorpus.txt\u001b[39m\u001b[33m\"\u001b[39m\n\u001b[32m    103\u001b[39m             \u001b[38;5;28;01mwith\u001b[39;00m \u001b[38;5;28mopen\u001b[39m(corpus_path, \u001b[33m'\u001b[39m\u001b[33mw\u001b[39m\u001b[33m'\u001b[39m, encoding=\u001b[33m\"\u001b[39m\u001b[33mutf-8\u001b[39m\u001b[33m\"\u001b[39m) \u001b[38;5;28;01mas\u001b[39;00m f:\n",
      "\u001b[31mTypeError\u001b[39m: 'NoneType' object is not subscriptable"
     ]
    }
   ],
   "source": [
    "P.run()"
   ]
  },
  {
   "cell_type": "code",
   "execution_count": 44,
   "id": "cf525485",
   "metadata": {},
   "outputs": [
    {
     "name": "stdout",
     "output_type": "stream",
     "text": [
      "load data\n",
      "[spaCy] spaCy version: 3.8.5\n",
      "[spaCy] spaCy model: core_news_sm\n",
      "casEN\n",
      "casEN verbose Activate\n",
      "Pipe 2\n",
      "load data\n",
      "casEN\n",
      "casEN verbose Activate\n"
     ]
    }
   ],
   "source": [
    "importlib.reload(casen)\n",
    "importlib.reload(spacy_wrapper)\n",
    "importlib.reload(pipeline)\n",
    "importlib.reload(utils)\n",
    "from pipeline import Pipeline\n",
    "from spacy_wrapper import SpaCy\n",
    "from casen import CasEN\n",
    "\n",
    "\n",
    "\n",
    "# -------- Pipeline Config -------- #\n",
    "Pipe = Pipeline(\n",
    "    data=EXCEL_DATA,\n",
    "    pipeline_result=PIPELINE_RESULT,\n",
    "    log_option=True,\n",
    "    log_path=\"Logs\",\n",
    "    verbose=True\n",
    ")\n",
    "Pipe.run()\n",
    "\n",
    "\n",
    "# -------- Pipeline Config  2-------- #\n",
    "spacy = SpaCy()\n",
    "casEn = CasEN(verbose=True)\n",
    "\n",
    "Pipe2 = Pipeline(\n",
    "    data=EXCEL_DATA,\n",
    "    spaCy=spacy, \n",
    "    casEN=casEn\n",
    ")\n",
    "print(\"Pipe 2\")\n",
    "Pipe2.run()\n"
   ]
  }
 ],
 "metadata": {
  "kernelspec": {
   "display_name": "Python 3",
   "language": "python",
   "name": "python3"
  },
  "language_info": {
   "codemirror_mode": {
    "name": "ipython",
    "version": 3
   },
   "file_extension": ".py",
   "mimetype": "text/x-python",
   "name": "python",
   "nbconvert_exporter": "python",
   "pygments_lexer": "ipython3",
   "version": "3.12.10"
  }
 },
 "nbformat": 4,
 "nbformat_minor": 5
}
