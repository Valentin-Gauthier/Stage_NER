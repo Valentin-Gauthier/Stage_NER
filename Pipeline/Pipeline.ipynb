{
 "cells": [
  {
   "cell_type": "code",
   "execution_count": 2,
   "id": "74aaf844",
   "metadata": {},
   "outputs": [],
   "source": [
    "# -------- IMPORTS -------\n",
    "import pipeline\n",
    "import spacy_wrapper\n",
    "import casen\n",
    "import importlib\n",
    "import utils"
   ]
  },
  {
   "cell_type": "code",
   "execution_count": 72,
   "id": "c1fe4354",
   "metadata": {},
   "outputs": [
    {
     "name": "stderr",
     "output_type": "stream",
     "text": [
      "<>:6: SyntaxWarning: invalid escape sequence '\\L'\n",
      "<>:6: SyntaxWarning: invalid escape sequence '\\L'\n",
      "C:\\Users\\valen\\AppData\\Local\\Temp\\ipykernel_6092\\281868726.py:6: SyntaxWarning: invalid escape sequence '\\L'\n",
      "  LOG_FOLDER = \"D:\\\\travail\\\\Stage\\\\Stage_NER\\\\Pipeline\\Logs\"\n"
     ]
    }
   ],
   "source": [
    "EXCEL_DATA = \"D:\\\\travail\\\\Stage\\\\Stage_NER\\\\ressources\\\\20231101_raw.xlsx\"\n",
    "PIPELINE_RESULT = \"D:\\\\travail\\\\Stage\\\\Stage_NER\\\\Pipeline\"\n",
    "CASEN = \"D:\\\\travail\\\\Stage\\\\Stage_NER\\\\CasEN_fr\\\\CasEN_fr.2.0\\\\CasEN.ipynb\"\n",
    "CASEN_CORPUS_FOLDER = \"D:\\\\travail\\\\Stage\\\\Stage_NER\\\\Result\\\\Corpus\"\n",
    "CASEN_RESULT_FOLDER = \"D:\\\\travail\\\\Stage\\\\Stage_NER\\\\Result\\\\CasEN_Result\\\\Res_CasEN_Analyse_synthese_grf\"\n",
    "LOG_FOLDER = \"D:\\\\travail\\\\Stage\\\\Stage_NER\\\\Pipeline\\Logs\"\n",
    "#ARCHIVES_FOLDER = \"D:\\\\travail\\\\Stage\\\\Stage_NER\\\\Pipeline\\\\Archives\""
   ]
  },
  {
   "cell_type": "code",
   "execution_count": 76,
   "id": "463452bc",
   "metadata": {},
   "outputs": [],
   "source": [
    "importlib.reload(spacy_wrapper)\n",
    "from spacy_wrapper import SpaCy\n",
    "# -------- SpaCy Config -------- #\n",
    "spaCy = SpaCy(\n",
    "    data=None,    # -> give in the Pipeline (load it only one time for spaCy and CasEN)\n",
    "    timer_option=True, \n",
    "    log_option=True, \n",
    "    log_path=\"Logs\",\n",
    "    verbose=True\n",
    "    )"
   ]
  },
  {
   "cell_type": "code",
   "execution_count": 77,
   "id": "f9cd1ba1",
   "metadata": {},
   "outputs": [],
   "source": [
    "importlib.reload(casen)\n",
    "from casen import CasEN\n",
    "# -------- CasEN Config -------- #\n",
    "casEN = CasEN(\n",
    "    path = CASEN,\n",
    "    data = None, # -> give in the Pipeline (load it only one time for spaCy and CasEN)\n",
    "    trustable_grf = False,\n",
    "    remove_casEN_MISC = True,\n",
    "    archiving = True,\n",
    "    unique_corpus_file = True,\n",
    "    corpus_folder = CASEN_CORPUS_FOLDER,\n",
    "    casEN_result = CASEN_RESULT_FOLDER,\n",
    "    make_excel = False,\n",
    "    timer_option = True,\n",
    "    log_option = True,\n",
    "    log_path = LOG_FOLDER,\n",
    "    verbose = True\n",
    ")"
   ]
  },
  {
   "cell_type": "code",
   "execution_count": null,
   "id": "c463b49f",
   "metadata": {},
   "outputs": [],
   "source": [
    "importlib.reload(pipeline)\n",
    "from pipeline import Pipeline\n",
    "# -------- Pipeline Config  1-------- #\n",
    "P = Pipeline(\n",
    "    spaCy = spaCy,\n",
    "    casEN = CasEN,\n",
    "    data = EXCEL_DATA,\n",
    "    pipeline_result = PIPELINE_RESULT,\n",
    "    remove_duplicate_rows = False,\n",
    "    timer_option = True,\n",
    "    log_option = True,\n",
    "    log_path = LOG_FOLDER,\n",
    "    verbose = True\n",
    ")"
   ]
  },
  {
   "cell_type": "code",
   "execution_count": 79,
   "id": "a1d7df67",
   "metadata": {},
   "outputs": [
    {
     "name": "stdout",
     "output_type": "stream",
     "text": [
      "load data\n",
      "[spaCy] spaCy version: 3.8.5\n",
      "[spaCy] spaCy model: core_news_sm\n",
      "run in : 70.81s\n",
      "[prepare folder] folder : .\n",
      "[prepare folder] Deleted folder : Archives\n",
      "[prepare folder] Deleted file : casen.py\n",
      "[prepare folder] Deleted folder : Logs\n",
      "[prepare folder] Deleted file : Pipeline.ipynb\n",
      "[prepare folder] Deleted file : pipeline.py\n",
      "[prepare folder] Deleted file : spacy_wrapper.py\n",
      "[prepare folder] Deleted file : utils.py\n",
      "[prepare folder] Deleted folder : __pycache__\n",
      "[prepare folder] folder : .\n",
      "[prepare folder] Folder is empty\n",
      "[generate file(s)] Single corpus file generated: corpus.txt\n",
      "[generate file(s)] Missing description : 3657\n"
     ]
    },
    {
     "ename": "Exception",
     "evalue": "you must provide at least a filename.",
     "output_type": "error",
     "traceback": [
      "\u001b[31m---------------------------------------------------------------------------\u001b[39m",
      "\u001b[31mIndexError\u001b[39m                                Traceback (most recent call last)",
      "\u001b[36mFile \u001b[39m\u001b[32m~\\AppData\\Local\\Packages\\PythonSoftwareFoundation.Python.3.12_qbz5n2kfra8p0\\LocalCache\\local-packages\\Python312\\site-packages\\IPython\\core\\magics\\execution.py:726\u001b[39m, in \u001b[36mExecutionMagics.run\u001b[39m\u001b[34m(self, parameter_s, runner, file_finder)\u001b[39m\n\u001b[32m    725\u001b[39m fpath = \u001b[38;5;28;01mNone\u001b[39;00m \u001b[38;5;66;03m# initialize to make sure fpath is in scope later\u001b[39;00m\n\u001b[32m--> \u001b[39m\u001b[32m726\u001b[39m fpath = \u001b[43marg_lst\u001b[49m\u001b[43m[\u001b[49m\u001b[32;43m0\u001b[39;49m\u001b[43m]\u001b[49m\n\u001b[32m    727\u001b[39m filename = file_finder(fpath)\n",
      "\u001b[31mIndexError\u001b[39m: list index out of range",
      "\nThe above exception was the direct cause of the following exception:\n",
      "\u001b[31mException\u001b[39m                                 Traceback (most recent call last)",
      "\u001b[36mCell\u001b[39m\u001b[36m \u001b[39m\u001b[32mIn[79]\u001b[39m\u001b[32m, line 1\u001b[39m\n\u001b[32m----> \u001b[39m\u001b[32m1\u001b[39m \u001b[43mP\u001b[49m\u001b[43m.\u001b[49m\u001b[43mrun\u001b[49m\u001b[43m(\u001b[49m\u001b[43m)\u001b[49m\n",
      "\u001b[36mFile \u001b[39m\u001b[32md:\\travail\\Stage\\Stage_NER\\Pipeline\\pipeline.py:42\u001b[39m, in \u001b[36mwrapper\u001b[39m\u001b[34m(self, *args, **kwargs)\u001b[39m\n\u001b[32m     40\u001b[39m \u001b[38;5;66;03m# ----- CasEN ----- #\u001b[39;00m\n\u001b[32m     41\u001b[39m \u001b[38;5;28;01mif\u001b[39;00m casEN \u001b[38;5;129;01mis\u001b[39;00m \u001b[38;5;28;01mNone\u001b[39;00m:\n\u001b[32m---> \u001b[39m\u001b[32m42\u001b[39m     casEN = CasEN(\n\u001b[32m     43\u001b[39m         trustable_grf=\u001b[38;5;28;01mFalse\u001b[39;00m,\n\u001b[32m     44\u001b[39m         verbose=\u001b[38;5;28mself\u001b[39m.verbose\n\u001b[32m     45\u001b[39m     )\n\u001b[32m     46\u001b[39m \u001b[38;5;28mself\u001b[39m.casEN = casEN\n\u001b[32m     48\u001b[39m \u001b[38;5;66;03m# ------- RUN -------- #\u001b[39;00m\n",
      "\u001b[36mFile \u001b[39m\u001b[32md:\\travail\\Stage\\Stage_NER\\Pipeline\\pipeline.py:152\u001b[39m, in \u001b[36mrun\u001b[39m\u001b[34m(self, spaCy, casEN)\u001b[39m\n\u001b[32m      0\u001b[39m <Error retrieving source code with stack_data see ipython/ipython#13598>\n",
      "\u001b[36mFile \u001b[39m\u001b[32md:\\travail\\Stage\\Stage_NER\\Pipeline\\casen.py:52\u001b[39m, in \u001b[36mCasEN.chrono.<locals>.wrapper\u001b[39m\u001b[34m(self, *args, **kwargs)\u001b[39m\n\u001b[32m     50\u001b[39m \u001b[38;5;28;01mif\u001b[39;00m \u001b[38;5;28mself\u001b[39m.timer_option \u001b[38;5;129;01mor\u001b[39;00m \u001b[38;5;28mself\u001b[39m.log_option:\n\u001b[32m     51\u001b[39m     start = time.time()\n\u001b[32m---> \u001b[39m\u001b[32m52\u001b[39m result = \u001b[43mfunc\u001b[49m\u001b[43m(\u001b[49m\u001b[38;5;28;43mself\u001b[39;49m\u001b[43m,\u001b[49m\u001b[43m \u001b[49m\u001b[43m*\u001b[49m\u001b[43margs\u001b[49m\u001b[43m,\u001b[49m\u001b[43m \u001b[49m\u001b[43m*\u001b[49m\u001b[43m*\u001b[49m\u001b[43mkwargs\u001b[49m\u001b[43m)\u001b[49m\n\u001b[32m     53\u001b[39m \u001b[38;5;28;01mif\u001b[39;00m \u001b[38;5;28mself\u001b[39m.timer_option \u001b[38;5;129;01mor\u001b[39;00m \u001b[38;5;28mself\u001b[39m.log_option:\n\u001b[32m     54\u001b[39m     duration = time.time() - start\n",
      "\u001b[36mFile \u001b[39m\u001b[32md:\\travail\\Stage\\Stage_NER\\Pipeline\\casen.py:204\u001b[39m, in \u001b[36mCasEN.run\u001b[39m\u001b[34m(self, verbose)\u001b[39m\n\u001b[32m    202\u001b[39m utils.generate_casEN_file(df=\u001b[38;5;28mself\u001b[39m.data, corpus_path=\u001b[38;5;28mself\u001b[39m.corpus_folder, unique_file=\u001b[38;5;28mself\u001b[39m.unique_corpus_file, verbose=\u001b[38;5;28mself\u001b[39m.verbose)\n\u001b[32m    203\u001b[39m \u001b[38;5;66;03m# run casEN\u001b[39;00m\n\u001b[32m--> \u001b[39m\u001b[32m204\u001b[39m \u001b[38;5;28;43mself\u001b[39;49m\u001b[43m.\u001b[49m\u001b[43mexecute_casEN\u001b[49m\u001b[43m(\u001b[49m\u001b[43m)\u001b[49m\n\u001b[32m    205\u001b[39m \u001b[38;5;66;03m# make dataframe\u001b[39;00m\n\u001b[32m    206\u001b[39m \u001b[38;5;28mself\u001b[39m.make_df()\n",
      "\u001b[36mFile \u001b[39m\u001b[32md:\\travail\\Stage\\Stage_NER\\Pipeline\\casen.py:52\u001b[39m, in \u001b[36mCasEN.chrono.<locals>.wrapper\u001b[39m\u001b[34m(self, *args, **kwargs)\u001b[39m\n\u001b[32m     50\u001b[39m \u001b[38;5;28;01mif\u001b[39;00m \u001b[38;5;28mself\u001b[39m.timer_option \u001b[38;5;129;01mor\u001b[39;00m \u001b[38;5;28mself\u001b[39m.log_option:\n\u001b[32m     51\u001b[39m     start = time.time()\n\u001b[32m---> \u001b[39m\u001b[32m52\u001b[39m result = \u001b[43mfunc\u001b[49m\u001b[43m(\u001b[49m\u001b[38;5;28;43mself\u001b[39;49m\u001b[43m,\u001b[49m\u001b[43m \u001b[49m\u001b[43m*\u001b[49m\u001b[43margs\u001b[49m\u001b[43m,\u001b[49m\u001b[43m \u001b[49m\u001b[43m*\u001b[49m\u001b[43m*\u001b[49m\u001b[43mkwargs\u001b[49m\u001b[43m)\u001b[49m\n\u001b[32m     53\u001b[39m \u001b[38;5;28;01mif\u001b[39;00m \u001b[38;5;28mself\u001b[39m.timer_option \u001b[38;5;129;01mor\u001b[39;00m \u001b[38;5;28mself\u001b[39m.log_option:\n\u001b[32m     54\u001b[39m     duration = time.time() - start\n",
      "\u001b[36mFile \u001b[39m\u001b[32md:\\travail\\Stage\\Stage_NER\\Pipeline\\casen.py:65\u001b[39m, in \u001b[36mCasEN.execute_casEN\u001b[39m\u001b[34m(self)\u001b[39m\n\u001b[32m     63\u001b[39m \u001b[38;5;129m@chrono\u001b[39m\n\u001b[32m     64\u001b[39m \u001b[38;5;28;01mdef\u001b[39;00m\u001b[38;5;250m \u001b[39m\u001b[34mexecute_casEN\u001b[39m(\u001b[38;5;28mself\u001b[39m):\n\u001b[32m---> \u001b[39m\u001b[32m65\u001b[39m     \u001b[43mget_ipython\u001b[49m\u001b[43m(\u001b[49m\u001b[43m)\u001b[49m\u001b[43m.\u001b[49m\u001b[43mrun_line_magic\u001b[49m\u001b[43m(\u001b[49m\u001b[33;43m'\u001b[39;49m\u001b[33;43mrun\u001b[39;49m\u001b[33;43m'\u001b[39;49m\u001b[43m,\u001b[49m\u001b[43m \u001b[49m\u001b[38;5;28;43mstr\u001b[39;49m\u001b[43m(\u001b[49m\u001b[38;5;28;43mself\u001b[39;49m\u001b[43m.\u001b[49m\u001b[43mpath\u001b[49m\u001b[43m)\u001b[49m\u001b[43m)\u001b[49m\n",
      "\u001b[36mFile \u001b[39m\u001b[32m~\\AppData\\Local\\Packages\\PythonSoftwareFoundation.Python.3.12_qbz5n2kfra8p0\\LocalCache\\local-packages\\Python312\\site-packages\\IPython\\core\\interactiveshell.py:2478\u001b[39m, in \u001b[36mInteractiveShell.run_line_magic\u001b[39m\u001b[34m(self, magic_name, line, _stack_depth)\u001b[39m\n\u001b[32m   2476\u001b[39m     kwargs[\u001b[33m'\u001b[39m\u001b[33mlocal_ns\u001b[39m\u001b[33m'\u001b[39m] = \u001b[38;5;28mself\u001b[39m.get_local_scope(stack_depth)\n\u001b[32m   2477\u001b[39m \u001b[38;5;28;01mwith\u001b[39;00m \u001b[38;5;28mself\u001b[39m.builtin_trap:\n\u001b[32m-> \u001b[39m\u001b[32m2478\u001b[39m     result = \u001b[43mfn\u001b[49m\u001b[43m(\u001b[49m\u001b[43m*\u001b[49m\u001b[43margs\u001b[49m\u001b[43m,\u001b[49m\u001b[43m \u001b[49m\u001b[43m*\u001b[49m\u001b[43m*\u001b[49m\u001b[43mkwargs\u001b[49m\u001b[43m)\u001b[49m\n\u001b[32m   2480\u001b[39m \u001b[38;5;66;03m# The code below prevents the output from being displayed\u001b[39;00m\n\u001b[32m   2481\u001b[39m \u001b[38;5;66;03m# when using magics with decorator @output_can_be_silenced\u001b[39;00m\n\u001b[32m   2482\u001b[39m \u001b[38;5;66;03m# when the last Python token in the expression is a ';'.\u001b[39;00m\n\u001b[32m   2483\u001b[39m \u001b[38;5;28;01mif\u001b[39;00m \u001b[38;5;28mgetattr\u001b[39m(fn, magic.MAGIC_OUTPUT_CAN_BE_SILENCED, \u001b[38;5;28;01mFalse\u001b[39;00m):\n",
      "\u001b[36mFile \u001b[39m\u001b[32m~\\AppData\\Local\\Packages\\PythonSoftwareFoundation.Python.3.12_qbz5n2kfra8p0\\LocalCache\\local-packages\\Python312\\site-packages\\IPython\\core\\magics\\execution.py:730\u001b[39m, in \u001b[36mExecutionMagics.run\u001b[39m\u001b[34m(self, parameter_s, runner, file_finder)\u001b[39m\n\u001b[32m    728\u001b[39m \u001b[38;5;28;01mexcept\u001b[39;00m \u001b[38;5;167;01mIndexError\u001b[39;00m \u001b[38;5;28;01mas\u001b[39;00m e:\n\u001b[32m    729\u001b[39m     msg = \u001b[33m'\u001b[39m\u001b[33myou must provide at least a filename.\u001b[39m\u001b[33m'\u001b[39m\n\u001b[32m--> \u001b[39m\u001b[32m730\u001b[39m     \u001b[38;5;28;01mraise\u001b[39;00m \u001b[38;5;167;01mException\u001b[39;00m(msg) \u001b[38;5;28;01mfrom\u001b[39;00m\u001b[38;5;250m \u001b[39m\u001b[34;01me\u001b[39;00m\n\u001b[32m    731\u001b[39m \u001b[38;5;28;01mexcept\u001b[39;00m \u001b[38;5;167;01mIOError\u001b[39;00m \u001b[38;5;28;01mas\u001b[39;00m e:\n\u001b[32m    732\u001b[39m     \u001b[38;5;28;01mtry\u001b[39;00m:\n",
      "\u001b[31mException\u001b[39m: you must provide at least a filename."
     ]
    }
   ],
   "source": [
    "P.run()"
   ]
  },
  {
   "cell_type": "code",
   "execution_count": 44,
   "id": "cf525485",
   "metadata": {},
   "outputs": [
    {
     "name": "stdout",
     "output_type": "stream",
     "text": [
      "load data\n",
      "[spaCy] spaCy version: 3.8.5\n",
      "[spaCy] spaCy model: core_news_sm\n",
      "casEN\n",
      "casEN verbose Activate\n",
      "Pipe 2\n",
      "load data\n",
      "casEN\n",
      "casEN verbose Activate\n"
     ]
    }
   ],
   "source": [
    "importlib.reload(casen)\n",
    "importlib.reload(spacy_wrapper)\n",
    "importlib.reload(pipeline)\n",
    "importlib.reload(utils)\n",
    "from pipeline import Pipeline\n",
    "from spacy_wrapper import SpaCy\n",
    "from casen import CasEN\n",
    "\n",
    "\n",
    "\n",
    "# -------- Pipeline Config -------- #\n",
    "Pipe = Pipeline(\n",
    "    data=EXCEL_DATA,\n",
    "    pipeline_result=PIPELINE_RESULT,\n",
    "    log_option=True,\n",
    "    log_path=\"Logs\",\n",
    "    verbose=True\n",
    ")\n",
    "Pipe.run()\n",
    "\n",
    "\n",
    "# -------- Pipeline Config  2-------- #\n",
    "spacy = SpaCy()\n",
    "casEn = CasEN(verbose=True)\n",
    "\n",
    "Pipe2 = Pipeline(\n",
    "    data=EXCEL_DATA,\n",
    "    spaCy=spacy, \n",
    "    casEN=casEn\n",
    ")\n",
    "print(\"Pipe 2\")\n",
    "Pipe2.run()\n"
   ]
  }
 ],
 "metadata": {
  "kernelspec": {
   "display_name": "Python 3",
   "language": "python",
   "name": "python3"
  },
  "language_info": {
   "codemirror_mode": {
    "name": "ipython",
    "version": 3
   },
   "file_extension": ".py",
   "mimetype": "text/x-python",
   "name": "python",
   "nbconvert_exporter": "python",
   "pygments_lexer": "ipython3",
   "version": "3.12.10"
  }
 },
 "nbformat": 4,
 "nbformat_minor": 5
}
