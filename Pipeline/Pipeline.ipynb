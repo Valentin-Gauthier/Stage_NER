{
 "cells": [
  {
   "cell_type": "code",
   "execution_count": 12,
   "id": "74aaf844",
   "metadata": {},
   "outputs": [],
   "source": [
    "# -------- IMPORTS -------\n",
    "import pipeline\n",
    "import spacy_wrapper\n",
    "import casen\n",
    "import importlib"
   ]
  },
  {
   "cell_type": "code",
   "execution_count": null,
   "id": "c1fe4354",
   "metadata": {},
   "outputs": [],
   "source": [
    "EXCEL_DATA = \"../ressources/20231101_raw.xlsx\" # path for the Excel raw datas"
   ]
  },
  {
   "cell_type": "code",
   "execution_count": 17,
   "id": "463452bc",
   "metadata": {},
   "outputs": [
    {
     "name": "stdout",
     "output_type": "stream",
     "text": [
      "load_data in : 1.36s\n",
      "[spaCy] spaCy version: 3.8.5\n",
      "[spaCy] spaCy model: core_news_sm\n",
      "run in : 75.98s\n"
     ]
    },
    {
     "data": {
      "text/html": [
       "<div>\n",
       "<style scoped>\n",
       "    .dataframe tbody tr th:only-of-type {\n",
       "        vertical-align: middle;\n",
       "    }\n",
       "\n",
       "    .dataframe tbody tr th {\n",
       "        vertical-align: top;\n",
       "    }\n",
       "\n",
       "    .dataframe thead th {\n",
       "        text-align: right;\n",
       "    }\n",
       "</style>\n",
       "<table border=\"1\" class=\"dataframe\">\n",
       "  <thead>\n",
       "    <tr style=\"text-align: right;\">\n",
       "      <th></th>\n",
       "      <th>titles</th>\n",
       "      <th>NER</th>\n",
       "      <th>NER_label</th>\n",
       "      <th>desc</th>\n",
       "      <th>method</th>\n",
       "      <th>file_id</th>\n",
       "    </tr>\n",
       "  </thead>\n",
       "  <tbody>\n",
       "    <tr>\n",
       "      <th>0</th>\n",
       "      <td>Faster than fear</td>\n",
       "      <td>Sunny</td>\n",
       "      <td>PER</td>\n",
       "      <td>Ralf a pu prouver son innocence et Sunny a été...</td>\n",
       "      <td>spaCy</td>\n",
       "      <td>0</td>\n",
       "    </tr>\n",
       "    <tr>\n",
       "      <th>1</th>\n",
       "      <td>Faster than fear</td>\n",
       "      <td>Haffner</td>\n",
       "      <td>PER</td>\n",
       "      <td>lle n'a plus rien à voir avec l'affaire Haffne...</td>\n",
       "      <td>spaCy</td>\n",
       "      <td>0</td>\n",
       "    </tr>\n",
       "    <tr>\n",
       "      <th>2</th>\n",
       "      <td>Faster than fear</td>\n",
       "      <td>Sunny</td>\n",
       "      <td>LOC</td>\n",
       "      <td>mais celui-ci demande à ne parler qu'à Sunny....</td>\n",
       "      <td>spaCy</td>\n",
       "      <td>0</td>\n",
       "    </tr>\n",
       "    <tr>\n",
       "      <th>3</th>\n",
       "      <td>Faster than fear</td>\n",
       "      <td>Nora</td>\n",
       "      <td>LOC</td>\n",
       "      <td>nny. D'ailleurs, elle est persuadée que Nora a...</td>\n",
       "      <td>spaCy</td>\n",
       "      <td>0</td>\n",
       "    </tr>\n",
       "    <tr>\n",
       "      <th>4</th>\n",
       "      <td>Faster than fear</td>\n",
       "      <td>Haffner</td>\n",
       "      <td>PER</td>\n",
       "      <td>e s'adresser à... elle. En garde à vue, Haffne...</td>\n",
       "      <td>spaCy</td>\n",
       "      <td>0</td>\n",
       "    </tr>\n",
       "  </tbody>\n",
       "</table>\n",
       "</div>"
      ],
      "text/plain": [
       "             titles      NER NER_label  \\\n",
       "0  Faster than fear    Sunny       PER   \n",
       "1  Faster than fear  Haffner       PER   \n",
       "2  Faster than fear    Sunny       LOC   \n",
       "3  Faster than fear     Nora       LOC   \n",
       "4  Faster than fear  Haffner       PER   \n",
       "\n",
       "                                                desc method  file_id  \n",
       "0  Ralf a pu prouver son innocence et Sunny a été...  spaCy        0  \n",
       "1  lle n'a plus rien à voir avec l'affaire Haffne...  spaCy        0  \n",
       "2   mais celui-ci demande à ne parler qu'à Sunny....  spaCy        0  \n",
       "3  nny. D'ailleurs, elle est persuadée que Nora a...  spaCy        0  \n",
       "4  e s'adresser à... elle. En garde à vue, Haffne...  spaCy        0  "
      ]
     },
     "execution_count": 17,
     "metadata": {},
     "output_type": "execute_result"
    }
   ],
   "source": [
    "importlib.reload(spacy_wrapper)\n",
    "from spacy_wrapper import SpaCy\n",
    "# -------- SpaCy Config -------- #\n",
    "spaCy = SpaCy(\n",
    "    data=EXCEL_DATA, \n",
    "    timer_option=True, \n",
    "    log_option=True, \n",
    "    log_path=\"Logs\",\n",
    "    verbose=True\n",
    "    )\n",
    "\n",
    "# -------- Run SpaCy --------- #\n",
    "spaCy_df = spaCy.run()\n",
    "spaCy_df.head()"
   ]
  },
  {
   "cell_type": "code",
   "execution_count": 15,
   "id": "f9cd1ba1",
   "metadata": {},
   "outputs": [],
   "source": [
    "importlib.reload(casen)\n",
    "from casen import CasEN\n",
    "# -------- CasEN Config -------- #\n",
    "casEN = CasEN()"
   ]
  },
  {
   "cell_type": "code",
   "execution_count": 16,
   "id": "c463b49f",
   "metadata": {},
   "outputs": [],
   "source": [
    "importlib.reload(pipeline)\n",
    "from pipeline import Pipeline\n",
    "# -------- Pipeline Config -------- #\n",
    "pipeline = Pipeline()"
   ]
  }
 ],
 "metadata": {
  "kernelspec": {
   "display_name": "Python 3",
   "language": "python",
   "name": "python3"
  },
  "language_info": {
   "codemirror_mode": {
    "name": "ipython",
    "version": 3
   },
   "file_extension": ".py",
   "mimetype": "text/x-python",
   "name": "python",
   "nbconvert_exporter": "python",
   "pygments_lexer": "ipython3",
   "version": "3.11.9"
  }
 },
 "nbformat": 4,
 "nbformat_minor": 5
}
