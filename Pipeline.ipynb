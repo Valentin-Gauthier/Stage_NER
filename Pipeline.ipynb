{
 "cells": [
  {
   "cell_type": "code",
   "execution_count": 1,
   "id": "08d0a3df",
   "metadata": {},
   "outputs": [],
   "source": [
    "import Pipeline\n",
    "import importlib"
   ]
  },
  {
   "cell_type": "code",
   "execution_count": null,
   "id": "60c5aef4",
   "metadata": {},
   "outputs": [
    {
     "name": "stdout",
     "output_type": "stream",
     "text": [
      "load_excel in : 1.84s\n",
      "[spaCy] spaCy version: 3.8.5\n",
      "[spaCy] spaCy model: core_news_sm\n",
      "use_spaCy in : 91.87s\n",
      "[casEN] folder : Result\\Corpus\n",
      "[casEN] Deleted file : corpus.txt\n",
      "[prepare folder] Single corpus file generated: Result\\Corpus\\corpus.txt\n",
      "[prepare folder] Missing description : 3657\n",
      "generate_casEN_file in : 0.37s\n",
      "[casEN] folder : Result\\CasEN_Result\\Res_CasEN_Analyse_synthese_grf\n",
      "[casEN] Deleted file : corpus.result.txt\n",
      "corpus.txt\n",
      "C:\\Users\\valen\\Documents\\Informatique-L3\\Stage\\Stage\\Result\\Corpus\t\t -> results in : C:\\Users\\valen\\Documents\\Informatique-L3\\Stage\\Stage\\Result\\CasEN_Result\\Res_CasEN_Analyse_synthese_grf\n",
      "1 files to process with CasEN in  C:\\Users\\valen\\Documents\\Informatique-L3\\Stage\\Stage\\Result\\Corpus\n",
      "C:\\Users\\valen\\AppData\\Local\\Unitex-GramLab\\App\\UnitexToolLogger.exe { BatchRunScript -e -i \"C:\\Users\\valen\\Documents\\Informatique-L3\\Stage\\Stage\\Result\\Corpus\" -o \"C:\\Users\\valen\\Documents\\Informatique-L3\\Stage\\Stage\\Result\\CasEN_Result\\Res_CasEN_Analyse_synthese_grf\" -t1 \"C:\\Users\\valen\\Documents\\Informatique-L3\\Stage\\CasEN_fr.2.0\\my_CasEN_lingpkg.zip\" -f -s \"script\\CasEN_Analyse_synthese_grf.uniscript\" }\n",
      "execute_casEN in : 328.14s\n",
      "extract_casEN_entities in : 3.40s\n",
      "use_casEN in : 423.41s\n",
      "[merge] description without entities : 586\n",
      "merge_spacy_casEN in : 0.61s\n",
      "correct_excel in : 6.12s\n",
      "run in : 555.35s\n"
     ]
    },
    {
     "data": {
      "text/plain": [
       "'Excel file saved as Result\\\\xlsx\\\\Pipeline.xlsx.'"
      ]
     },
     "execution_count": 26,
     "metadata": {},
     "output_type": "execute_result"
    }
   ],
   "source": [
    "importlib.reload(Pipeline) # refresh Pipeline import\n",
    "\n",
    "# spaCy models\n",
    "small = \"fr_core_news_sm\"\n",
    "medium = \"fr_core_news_md\"\n",
    "large = \"fr_core_news_lg\"\n",
    "\n",
    "excel = \"ressources/20231101_raw.xlsx\"\n",
    "correction_path = \"ressources/20231101_Digital3D_Tele-Loisirs _telerama_NER_weekday_evaluation_v3(1).xlsx\"\n",
    "\n",
    "P = Pipeline.Pipeline(\n",
    "        Excel_files = excel, # The path for the Excel file\n",
    "        timer_option = True,    # Show the duration of every step\n",
    "        log_option = True,   # Log the duration of every step\n",
    "        log_destination = \"Result/log\", # the path for the log FOLDER\n",
    "        spaCy_model = small,  # spaCy model\n",
    "        include_casEN_MISC = False,   # Choose if we keep or not the casEN MISC\n",
    "        remove_duplicate_rows = True,  # Choose if we remove or not the duplicate row (same : \"titles\", \"NER\", \"NER_label\", \"method\", \"main_graph\", \"second_graph\", \"third_graph\")\n",
    "        casEN_ipynb_location = \"../CasEN_fr.2.0/CasEN.ipynb\", # The path of the casEN ipynb\n",
    "        casEN_corpus_folder = \"Result/Corpus\", # the path of the FOLDER for  casEN Corpus location\n",
    "        casEN_corpus_unique = True,   # Choose if we make one or multiple corpus file(s)\n",
    "        casEN_result_folder = \"Result/CasEN_Result/Res_CasEN_Analyse_synthese_grf\", # the path of the casEN Result FOLDER\n",
    "        Excel_result_path = \"Result/xlsx/\", # Pipeline Excel result FOLDER destination\n",
    "        correction_path = correction_path, # the path for the Excel corretion (if None, no correction)\n",
    "    )\n",
    "P.run(verbose=True)"
   ]
  }
 ],
 "metadata": {
  "kernelspec": {
   "display_name": "Python 3",
   "language": "python",
   "name": "python3"
  },
  "language_info": {
   "codemirror_mode": {
    "name": "ipython",
    "version": 3
   },
   "file_extension": ".py",
   "mimetype": "text/x-python",
   "name": "python",
   "nbconvert_exporter": "python",
   "pygments_lexer": "ipython3",
   "version": "3.11.9"
  }
 },
 "nbformat": 4,
 "nbformat_minor": 5
}
