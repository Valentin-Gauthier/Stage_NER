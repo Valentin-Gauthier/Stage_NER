{
 "cells": [
  {
   "cell_type": "code",
   "execution_count": 76,
   "id": "e139505e",
   "metadata": {},
   "outputs": [],
   "source": [
    "import tokenizer\n",
    "import importlib\n",
    "import pandas as pd"
   ]
  },
  {
   "cell_type": "code",
   "execution_count": 77,
   "id": "9c6b9066",
   "metadata": {},
   "outputs": [],
   "source": [
    "# ---- GENERATE A CORPUS -----\n",
    "EXCEL = \"D:\\\\travail\\\\Stage\\\\Stage_NER\\\\ressources\\\\20231101_raw.xlsx\"\n",
    "df = pd.read_excel(EXCEL)\n",
    "\n",
    "corpus = \"\\n\".join(str(desc) for desc in df[\"desc\"] if pd.notna(desc))\n",
    "\n",
    "with open(\"corpus.txt\", 'w', encoding=\"utf-8\") as f:\n",
    "    f.write(corpus)"
   ]
  },
  {
   "cell_type": "code",
   "execution_count": 78,
   "id": "9abddcb2",
   "metadata": {},
   "outputs": [],
   "source": [
    "CORPUS = \"Bonjour, j'adore les chiens et les chiens\"\n",
    "WORD = \"Chiens Chat\""
   ]
  },
  {
   "cell_type": "code",
   "execution_count": 86,
   "id": "fbc82330",
   "metadata": {},
   "outputs": [],
   "source": [
    "importlib.reload(tokenizer)\n",
    "from tokenizer import Tokenizer\n",
    "\n",
    "with open(\"corpus.txt\", 'r', encoding=\"utf-8\") as f:\n",
    "    corpus = f.read()\n",
    "\n",
    "Tk = Tokenizer(corpus=corpus, nb_merge=300, verbose=False)\n",
    "Tk.encode()"
   ]
  }
 ],
 "metadata": {
  "kernelspec": {
   "display_name": "Python 3",
   "language": "python",
   "name": "python3"
  },
  "language_info": {
   "codemirror_mode": {
    "name": "ipython",
    "version": 3
   },
   "file_extension": ".py",
   "mimetype": "text/x-python",
   "name": "python",
   "nbconvert_exporter": "python",
   "pygments_lexer": "ipython3",
   "version": "3.12.10"
  }
 },
 "nbformat": 4,
 "nbformat_minor": 5
}
