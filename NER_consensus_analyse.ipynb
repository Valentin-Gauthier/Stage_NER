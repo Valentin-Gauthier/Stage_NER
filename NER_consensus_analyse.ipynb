{
 "cells": [
  {
   "cell_type": "code",
   "execution_count": 2,
   "id": "144bb057",
   "metadata": {},
   "outputs": [],
   "source": [
    "# Imports\n",
    "from bs4 import BeautifulSoup\n",
    "from pathlib import Path\n",
    "import json\n",
    "import pandas as pd\n",
    "import matplotlib.pyplot as plt"
   ]
  },
  {
   "cell_type": "code",
   "execution_count": 10,
   "id": "9ec553e6",
   "metadata": {},
   "outputs": [],
   "source": [
    "# Read the document \n",
    "xlsx_sheet = [\"spacy-casEN\", \"Choices\", \"Sheet1\", \"Evaluation\"]\n",
    "df_sheets = pd.read_excel(\"2023-11-01_consensus_NER.xlsx\", sheet_name=xlsx_sheet)\n",
    "\n",
    "df = df_sheets[\"spacy-casEN\"]\n",
    "# Remove unnecessary colomn\n",
    "col = [\"titles\", \"h\",\"desc\"]\n",
    "# df = df.drop(columns=col)\n",
    "# df.head(10)"
   ]
  }
 ],
 "metadata": {
  "kernelspec": {
   "display_name": "Python 3",
   "language": "python",
   "name": "python3"
  },
  "language_info": {
   "codemirror_mode": {
    "name": "ipython",
    "version": 3
   },
   "file_extension": ".py",
   "mimetype": "text/x-python",
   "name": "python",
   "nbconvert_exporter": "python",
   "pygments_lexer": "ipython3",
   "version": "3.11.9"
  }
 },
 "nbformat": 4,
 "nbformat_minor": 5
}
